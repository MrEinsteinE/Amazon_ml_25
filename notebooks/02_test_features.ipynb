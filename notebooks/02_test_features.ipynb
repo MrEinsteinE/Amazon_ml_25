{
 "cells": [
  {
   "cell_type": "code",
   "execution_count": 1,
   "id": "0f482d78",
   "metadata": {},
   "outputs": [
    {
     "name": "stderr",
     "output_type": "stream",
     "text": [
      "c:\\Users\\91850\\anaconda3\\envs\\amazon_ml\\lib\\site-packages\\tqdm\\auto.py:21: TqdmWarning: IProgress not found. Please update jupyter and ipywidgets. See https://ipywidgets.readthedocs.io/en/stable/user_install.html\n",
      "  from .autonotebook import tqdm as notebook_tqdm\n"
     ]
    },
    {
     "name": "stdout",
     "output_type": "stream",
     "text": [
      "Testing text feature extraction...\n"
     ]
    },
    {
     "name": "stderr",
     "output_type": "stream",
     "text": [
      "Xet Storage is enabled for this repo, but the 'hf_xet' package is not installed. Falling back to regular HTTP download. For better performance, install the package with: `pip install huggingface_hub[hf_xet]` or `pip install hf_xet`\n"
     ]
    },
    {
     "name": "stdout",
     "output_type": "stream",
     "text": [
      "Extracting structured features...\n",
      "Extracting BERT embeddings...\n",
      "Processed 0/10 texts\n",
      "✓ Extracted 781 text features\n",
      "   text_length  word_count  item_pack_qty  num_numeric_values  \\\n",
      "0           91          18              1                   3   \n",
      "1          511          80              1                  11   \n",
      "2          328          59              1                   9   \n",
      "3         1318         211              1                   8   \n",
      "4          155          28              1                   5   \n",
      "\n",
      "   max_numeric_value  avg_numeric_value  has_brand  is_electronics  \\\n",
      "0               72.0          30.000000          0               0   \n",
      "1             1925.0         183.636364          0               0   \n",
      "2               11.4           3.811111          0               0   \n",
      "3             2009.0         255.812500          0               0   \n",
      "4               12.7          12.280000          0               0   \n",
      "\n",
      "   is_clothing  is_home  ...  bert_758  bert_759  bert_760  bert_761  \\\n",
      "0            0        0  ...  0.052305 -0.641350 -0.276121 -0.278178   \n",
      "1            0        0  ... -0.101341 -0.884402 -0.051410 -0.413053   \n",
      "2            0        1  ... -0.187044 -0.771735 -0.288622 -0.416828   \n",
      "3            1        0  ... -0.277267 -0.774344 -0.334902 -0.626302   \n",
      "4            0        0  ...  0.049430 -0.569795  0.040619 -0.473325   \n",
      "\n",
      "   bert_762  bert_763  bert_764  bert_765  bert_766  bert_767  \n",
      "0  0.255609 -0.059156 -0.345702 -0.462317 -0.391438  0.018506  \n",
      "1  0.623274 -0.333951 -0.489114 -0.214984 -0.522377  0.238928  \n",
      "2  0.366080  0.040144 -0.421874 -0.337850 -0.647270  0.049968  \n",
      "3  0.355892  0.236129 -0.517804 -0.422569 -0.523018  0.199226  \n",
      "4 -0.058038  0.017558 -0.286319 -0.470113 -0.110557  0.071495  \n",
      "\n",
      "[5 rows x 781 columns]\n",
      "\n",
      "Testing image feature extraction...\n"
     ]
    },
    {
     "name": "stderr",
     "output_type": "stream",
     "text": [
      "c:\\Users\\91850\\anaconda3\\envs\\amazon_ml\\lib\\site-packages\\torchvision\\models\\_utils.py:208: UserWarning: The parameter 'pretrained' is deprecated since 0.13 and may be removed in the future, please use 'weights' instead.\n",
      "  warnings.warn(\n",
      "c:\\Users\\91850\\anaconda3\\envs\\amazon_ml\\lib\\site-packages\\torchvision\\models\\_utils.py:223: UserWarning: Arguments other than a weight enum or `None` for 'weights' are deprecated since 0.13 and may be removed in the future. The current behavior is equivalent to passing `weights=ResNet50_Weights.IMAGENET1K_V1`. You can also use `weights=ResNet50_Weights.DEFAULT` to get the most up-to-date weights.\n",
      "  warnings.warn(msg)\n",
      "Downloading: \"https://download.pytorch.org/models/resnet50-0676ba61.pth\" to C:\\Users\\91850/.cache\\torch\\hub\\checkpoints\\resnet50-0676ba61.pth\n",
      "100%|██████████| 97.8M/97.8M [01:53<00:00, 907kB/s] \n"
     ]
    },
    {
     "name": "stdout",
     "output_type": "stream",
     "text": [
      "Extracting image features...\n",
      "Processing 3 images...\n"
     ]
    },
    {
     "name": "stderr",
     "output_type": "stream",
     "text": [
      "100%|██████████| 1/1 [00:04<00:00,  4.07s/it]"
     ]
    },
    {
     "name": "stdout",
     "output_type": "stream",
     "text": [
      "✓ Extracted 2048 image features\n",
      "      img_0     img_1     img_2     img_3     img_4     img_5     img_6  \\\n",
      "0  0.773089  1.333017  0.021186  0.039482  0.350249  1.404976  0.496181   \n",
      "1  0.129555  1.725195  0.000899  0.022208  1.334738  0.091158  0.302965   \n",
      "2  0.756086  0.636252  0.332545  0.167002  1.668957  0.564551  0.692506   \n",
      "\n",
      "      img_7     img_8     img_9  ...  img_2038  img_2039  img_2040  img_2041  \\\n",
      "0  0.045238  0.318731  0.238661  ...  0.588980  0.570139  0.310737  0.133691   \n",
      "1  0.012800  0.333807  0.061256  ...  0.421262  0.311389  0.498254  0.026835   \n",
      "2  0.080738  0.752177  0.064514  ...  0.596606  0.100502  0.879908  0.181231   \n",
      "\n",
      "   img_2042  img_2043  img_2044  img_2045  img_2046  img_2047  \n",
      "0  0.150488  0.063232  0.175209  0.001518  0.324762  0.182626  \n",
      "1  0.000192  0.041117  0.052218  0.460744  0.007103  0.177346  \n",
      "2  0.308688  0.184177  0.689526  0.445650  0.264298  0.566839  \n",
      "\n",
      "[3 rows x 2048 columns]\n"
     ]
    },
    {
     "name": "stderr",
     "output_type": "stream",
     "text": [
      "\n"
     ]
    }
   ],
   "source": [
    "import sys\n",
    "sys.path.append('../src')\n",
    "import pandas as pd\n",
    "from text_features import TextFeatureExtractor\n",
    "from image_features import ImageFeatureExtractor\n",
    "\n",
    "# Load small sample\n",
    "train_df = pd.read_csv('../dataset/train.csv')\n",
    "sample_df = train_df.head(10)\n",
    "\n",
    "print(\"Testing text feature extraction...\")\n",
    "text_extractor = TextFeatureExtractor()\n",
    "text_features = text_extractor.extract_all_features(sample_df)\n",
    "print(f\"✓ Extracted {text_features.shape[1]} text features\")\n",
    "print(text_features.head())\n",
    "\n",
    "print(\"\\nTesting image feature extraction...\")\n",
    "image_extractor = ImageFeatureExtractor(model_name='resnet50')\n",
    "# Test with just 3 images\n",
    "sample_3 = sample_df.head(3)\n",
    "image_features = image_extractor.extract_all_features(sample_3)\n",
    "print(f\"✓ Extracted {image_features.shape[1]} image features\")\n",
    "print(image_features.head())\n"
   ]
  },
  {
   "cell_type": "code",
   "execution_count": null,
   "id": "d04afd7e",
   "metadata": {},
   "outputs": [],
   "source": []
  }
 ],
 "metadata": {
  "kernelspec": {
   "display_name": "amazon_ml",
   "language": "python",
   "name": "python3"
  },
  "language_info": {
   "codemirror_mode": {
    "name": "ipython",
    "version": 3
   },
   "file_extension": ".py",
   "mimetype": "text/x-python",
   "name": "python",
   "nbconvert_exporter": "python",
   "pygments_lexer": "ipython3",
   "version": "3.10.18"
  }
 },
 "nbformat": 4,
 "nbformat_minor": 5
}
